{
  "nbformat": 4,
  "nbformat_minor": 0,
  "metadata": {
    "colab": {
      "provenance": [],
      "authorship_tag": "ABX9TyMRS1htVPIqBuZgQ5KxgB8V"
    },
    "kernelspec": {
      "name": "python3",
      "display_name": "Python 3"
    },
    "language_info": {
      "name": "python"
    }
  },
  "cells": [
    {
      "cell_type": "code",
      "execution_count": 1,
      "metadata": {
        "colab": {
          "base_uri": "https://localhost:8080/"
        },
        "id": "shLZT344W9GM",
        "outputId": "eea1df4d-609d-4540-a8d6-3b83bc114b34"
      },
      "outputs": [
        {
          "output_type": "stream",
          "name": "stdout",
          "text": [
            "--2025-03-03 23:38:04--  https://raw.githubusercontent.com/lazyprogrammer/machine_learning_examples/master/hmm_class/robert_frost.txt\n",
            "Resolving raw.githubusercontent.com (raw.githubusercontent.com)... 185.199.108.133, 185.199.109.133, 185.199.110.133, ...\n",
            "Connecting to raw.githubusercontent.com (raw.githubusercontent.com)|185.199.108.133|:443... connected.\n",
            "HTTP request sent, awaiting response... 200 OK\n",
            "Length: 56286 (55K) [text/plain]\n",
            "Saving to: ‘robert_frost.txt’\n",
            "\n",
            "robert_frost.txt    100%[===================>]  54.97K  --.-KB/s    in 0.01s   \n",
            "\n",
            "2025-03-03 23:38:04 (4.31 MB/s) - ‘robert_frost.txt’ saved [56286/56286]\n",
            "\n"
          ]
        }
      ],
      "source": [
        "!wget -nc https://raw.githubusercontent.com/lazyprogrammer/machine_learning_examples/master/hmm_class/robert_frost.txt"
      ]
    },
    {
      "cell_type": "code",
      "source": [
        "# imports\n",
        "\n",
        "import string\n",
        "from collections import defaultdict\n",
        "import random"
      ],
      "metadata": {
        "id": "27ubl1tCYHF5"
      },
      "execution_count": 35,
      "outputs": []
    },
    {
      "cell_type": "code",
      "source": [
        "# clean text\n",
        "\n",
        "text = []\n",
        "file_name = \"robert_frost.txt\"\n",
        "\n",
        "for line in open(file_name):\n",
        "    line = line.rstrip().lower()\n",
        "    if line:\n",
        "      # remove punctuation\n",
        "      line = line.translate(str.maketrans('', '', string.punctuation))\n",
        "\n",
        "      text.append(line)\n"
      ],
      "metadata": {
        "id": "27veuiNZXuyM"
      },
      "execution_count": 36,
      "outputs": []
    },
    {
      "cell_type": "code",
      "source": [
        "pi = defaultdict(int)\n",
        "A1 = defaultdict(lambda: defaultdict(int))\n",
        "A2 = defaultdict(lambda: defaultdict(lambda: defaultdict(int)))\n",
        "A3 = defaultdict(lambda: defaultdict(lambda: defaultdict(lambda: defaultdict(int))))\n",
        "\n",
        "for line in text:\n",
        "  tokens = line.split()\n",
        "  T = len(tokens)\n",
        "  for i,token in enumerate(tokens):\n",
        "    if i == 0:\n",
        "      pi[token] += 1\n",
        "    elif i == 1:\n",
        "      A1[tokens[i-1]][token] += 1\n",
        "    elif i == 2:\n",
        "      A2[tokens[i-2]][tokens[i-1]][token] += 1\n",
        "    elif i >= 3:\n",
        "      A3[tokens[i-3]][tokens[i-2]][tokens[i-1]][token] += 1"
      ],
      "metadata": {
        "id": "CIgS7QpBYQHz"
      },
      "execution_count": 38,
      "outputs": []
    },
    {
      "cell_type": "code",
      "source": [
        "def normalize_dict(d):\n",
        "  total = sum(d.values())\n",
        "  for token in d:\n",
        "    d[token] /= total\n",
        "\n",
        "normalize_dict(pi)\n",
        "\n",
        "for prev1 in A1:\n",
        "  normalize_dict(A1[prev1])\n",
        "\n",
        "for prev1 in A2:\n",
        "  for prev2 in A2[prev1]:\n",
        "    normalize_dict(A2[prev1][prev2])\n",
        "\n",
        "for prev1 in A3:\n",
        "  for prev2 in A3[prev1]:\n",
        "    for prev3 in A3[prev1][prev2]:\n",
        "      normalize_dict(A3[prev1][prev2][prev3])"
      ],
      "metadata": {
        "id": "a36WRf-rc5o2"
      },
      "execution_count": 39,
      "outputs": []
    },
    {
      "cell_type": "code",
      "source": [
        "def sample_prob_dict(d):\n",
        "  v = random.uniform(0,1)\n",
        "  upper = 0\n",
        "  for key in d:\n",
        "    lower = upper\n",
        "    upper += d[key]\n",
        "    if v > lower and v <= upper:\n",
        "      return key\n",
        "  return \"\"\n",
        "\n",
        "sentence = []\n",
        "i = 0\n",
        "for j in range(100):\n",
        "  if i>0 and sentence[-1].strip() == \"\":\n",
        "    sentence.pop()\n",
        "    sentence.append(\"\\n\" + sample_prob_dict(pi))\n",
        "    i = 0\n",
        "    continue\n",
        "  if i == 0:\n",
        "    sentence.append(sample_prob_dict(pi))\n",
        "  elif i == 1:\n",
        "    sentence.append(sample_prob_dict(A1[sentence[i-1]]))\n",
        "  elif i == 2:\n",
        "    sentence.append(sample_prob_dict(A2[sentence[i-2]][sentence[i-1]]))\n",
        "  else:\n",
        "    sentence.append(sample_prob_dict(A3[sentence[i-3]][sentence[i-2]][sentence[i-1]]))\n",
        "  i += 1\n",
        "\n",
        "print(\" \".join(sentence))"
      ],
      "metadata": {
        "colab": {
          "base_uri": "https://localhost:8080/"
        },
        "id": "tJ2xGlYRgd60",
        "outputId": "4189cb71-9b03-44de-b34c-e9765d4849c1"
      },
      "execution_count": 42,
      "outputs": [
        {
          "output_type": "stream",
          "name": "stdout",
          "text": [
            "in an old cellar hole in a byroad \n",
            "from somewhere eightyfive old cellar hole in a byroad \n",
            "toffile theres going old cellar hole in a byroad \n",
            "with hadnt a old cellar hole in a byroad \n",
            "bout that dalton old cellar hole in a byroad \n",
            "like its front old cellar hole in a byroad \n",
            "when not that old cellar hole in a byroad \n",
            "strangely no every old cellar hole in a byroad \n",
            "this only leaves old cellar hole in a byroad \n",
            "all well virgin old cellar hole in a byroad \n",
            "old\n"
          ]
        }
      ]
    }
  ]
}