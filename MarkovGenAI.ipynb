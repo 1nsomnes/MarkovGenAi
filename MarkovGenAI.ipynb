{
  "nbformat": 4,
  "nbformat_minor": 0,
  "metadata": {
    "colab": {
      "provenance": [],
      "authorship_tag": "ABX9TyMWOPip3PSAZavl6X5Wy9b8"
    },
    "kernelspec": {
      "name": "python3",
      "display_name": "Python 3"
    },
    "language_info": {
      "name": "python"
    }
  },
  "cells": [
    {
      "cell_type": "code",
      "execution_count": 2,
      "metadata": {
        "colab": {
          "base_uri": "https://localhost:8080/"
        },
        "id": "shLZT344W9GM",
        "outputId": "ed4c453a-de44-4d3f-c48d-d4261d8f793a"
      },
      "outputs": [
        {
          "output_type": "stream",
          "name": "stdout",
          "text": [
            "--2025-03-04 05:34:43--  https://raw.githubusercontent.com/lazyprogrammer/machine_learning_examples/master/hmm_class/robert_frost.txt\n",
            "Resolving raw.githubusercontent.com (raw.githubusercontent.com)... 185.199.108.133, 185.199.109.133, 185.199.110.133, ...\n",
            "Connecting to raw.githubusercontent.com (raw.githubusercontent.com)|185.199.108.133|:443... connected.\n",
            "HTTP request sent, awaiting response... 200 OK\n",
            "Length: 56286 (55K) [text/plain]\n",
            "Saving to: ‘robert_frost.txt’\n",
            "\n",
            "\rrobert_frost.txt      0%[                    ]       0  --.-KB/s               \rrobert_frost.txt    100%[===================>]  54.97K  --.-KB/s    in 0.002s  \n",
            "\n",
            "2025-03-04 05:34:43 (34.6 MB/s) - ‘robert_frost.txt’ saved [56286/56286]\n",
            "\n"
          ]
        }
      ],
      "source": [
        "!wget -nc https://raw.githubusercontent.com/lazyprogrammer/machine_learning_examples/master/hmm_class/robert_frost.txt"
      ]
    },
    {
      "cell_type": "code",
      "source": [
        "# imports\n",
        "\n",
        "import string\n",
        "from collections import defaultdict\n",
        "from numpy import random"
      ],
      "metadata": {
        "id": "27ubl1tCYHF5"
      },
      "execution_count": 15,
      "outputs": []
    },
    {
      "cell_type": "code",
      "source": [
        "# clean text\n",
        "\n",
        "text = []\n",
        "file_name = \"robert_frost.txt\"\n",
        "\n",
        "for line in open(file_name):\n",
        "    line = line.rstrip().lower()\n",
        "    if line:\n",
        "      # remove punctuation\n",
        "      line = line.translate(str.maketrans('', '', string.punctuation))\n",
        "\n",
        "      text.append(line)\n"
      ],
      "metadata": {
        "id": "27veuiNZXuyM"
      },
      "execution_count": 4,
      "outputs": []
    },
    {
      "cell_type": "code",
      "source": [
        "pi = defaultdict(int)\n",
        "A1 = defaultdict(lambda: defaultdict(int))\n",
        "A2 = defaultdict(lambda: defaultdict(lambda: defaultdict(int)))\n",
        "A3 = defaultdict(lambda: defaultdict(lambda: defaultdict(lambda: defaultdict(int))))\n",
        "\n",
        "for line in text:\n",
        "  tokens = line.split()\n",
        "  tokens.append(\"END\")\n",
        "  T = len(tokens)\n",
        "  for i,token in enumerate(tokens):\n",
        "    if i == 0:\n",
        "      pi[token] += 1\n",
        "    if i >= 1:\n",
        "      A1[tokens[i-1]][token] += 1\n",
        "    if i >= 2:\n",
        "      A2[tokens[i-2]][tokens[i-1]][token] += 1\n",
        "    if i >= 3:\n",
        "      A3[tokens[i-3]][tokens[i-2]][tokens[i-1]][token] += 1"
      ],
      "metadata": {
        "id": "CIgS7QpBYQHz"
      },
      "execution_count": 45,
      "outputs": []
    },
    {
      "cell_type": "code",
      "source": [
        "def normalize_dict(d):\n",
        "  total = sum(d.values())\n",
        "  for token in d:\n",
        "    d[token] /= total\n",
        "\n",
        "normalize_dict(pi)\n",
        "\n",
        "for prev1 in A1:\n",
        "  normalize_dict(A1[prev1])\n",
        "\n",
        "for prev1 in A2:\n",
        "  for prev2 in A2[prev1]:\n",
        "    normalize_dict(A2[prev1][prev2])\n",
        "\n",
        "for prev1 in A3:\n",
        "  for prev2 in A3[prev1]:\n",
        "    for prev3 in A3[prev1][prev2]:\n",
        "      normalize_dict(A3[prev1][prev2][prev3])"
      ],
      "metadata": {
        "id": "a36WRf-rc5o2"
      },
      "execution_count": 46,
      "outputs": []
    },
    {
      "cell_type": "code",
      "source": [
        "def sample_prob_dict(d):\n",
        "  v = random.rand()\n",
        "  upper = 0\n",
        "  for key in d:\n",
        "    upper += d[key]\n",
        "    if v < upper:\n",
        "      return key\n",
        "  return \"NOTHING\"\n",
        "\n",
        "num_sentences = 4\n",
        "\n",
        "for j in range(num_sentences):\n",
        "  add = \"\"\n",
        "  i = 0\n",
        "  sentence = []\n",
        "  while add != \"END\":\n",
        "    if add != \"\":\n",
        "      sentence.append(add)\n",
        "    for j in range(1):\n",
        "      if i >= 3:\n",
        "        add = sample_prob_dict(A3[sentence[i-3]][sentence[i-2]][sentence[i-1]])\n",
        "        if add != \"NOTHING\":\n",
        "          continue\n",
        "      if i >= 2:\n",
        "        add = sample_prob_dict(A2[sentence[i-2]][sentence[i-1]])\n",
        "        if add != \"NOTHING\":\n",
        "          continue\n",
        "      if i >= 1:\n",
        "        add = sample_prob_dict(A1[sentence[i-1]])\n",
        "        if add != \"NOTHING\":\n",
        "          continue\n",
        "      if i >= 0:\n",
        "        add = sample_prob_dict(pi)\n",
        "\n",
        "\n",
        "\n",
        "    i += 1\n",
        "  print(\" \".join(sentence))\n",
        "  print(\"\\n\")\n"
      ],
      "metadata": {
        "colab": {
          "base_uri": "https://localhost:8080/"
        },
        "id": "tJ2xGlYRgd60",
        "outputId": "c5017c93-addc-45d3-92d9-a9043d03be2f"
      },
      "execution_count": 51,
      "outputs": [
        {
          "output_type": "stream",
          "name": "stdout",
          "text": [
            "with both hands i can see we are going to be you said just now\n",
            "\n",
            "\n",
            "and thats not all hes helpless\n",
            "\n",
            "\n",
            "theyve got it settled wrong and i can prove it\n",
            "\n",
            "\n",
            "that grave one\n",
            "\n",
            "\n"
          ]
        }
      ]
    }
  ]
}